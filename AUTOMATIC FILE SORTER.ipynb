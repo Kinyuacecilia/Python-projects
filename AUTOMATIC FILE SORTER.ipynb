{
 "cells": [
  {
   "cell_type": "markdown",
   "id": "96897e70",
   "metadata": {},
   "source": [
    "# AUTOMATIC FILE SORTER IN FILE EXPLORER"
   ]
  },
  {
   "cell_type": "code",
   "execution_count": 16,
   "id": "ef0412c8",
   "metadata": {},
   "outputs": [],
   "source": [
    "import os, shutil"
   ]
  },
  {
   "cell_type": "code",
   "execution_count": 17,
   "id": "4c9fc8e6",
   "metadata": {},
   "outputs": [],
   "source": [
    "path = r\"C:/Users/USER/OneDrive/Desktop/ANALYSIS/PythonPractice/\""
   ]
  },
  {
   "cell_type": "code",
   "execution_count": 18,
   "id": "0d1184ef",
   "metadata": {},
   "outputs": [],
   "source": [
    "file_name = os.listdir(path)"
   ]
  },
  {
   "cell_type": "code",
   "execution_count": 19,
   "id": "941ac01d",
   "metadata": {},
   "outputs": [],
   "source": [
    "folder_name = ['image file','python file','word file','excel file']\n",
    "\n",
    "for loop in range (0,4):\n",
    "    if not os.path.exists(path +folder_name[loop]):\n",
    "        print(path + folder_name[loop])\n",
    "        os.makedirs(path + folder_name[loop])\n",
    "\n",
    "for file in file_name:\n",
    "    if \".png\" in file and not os.path.exists(path + \"image file/\" + file):\n",
    "        shutil.move(path + file, path +\"image file/\" + file)\n",
    "    elif \".ipynb\" in file and not os.path.exists(path + \"python file/\" + file):\n",
    "        shutil.move(path + file, path +\"python file/\" + file)\n",
    "    elif \".docx\" in file and not os.path.exists(path + \"word file/\" + file):\n",
    "        shutil.move(path + file, path +\"word file/\" + file)\n",
    "    elif \".xlsx\" in file and not os.path.exists(path + \"excel file/\" + file):\n",
    "        shutil.move(path + file, path +\"excel file/\" + file)    \n"
   ]
  },
  {
   "cell_type": "code",
   "execution_count": null,
   "id": "ce3d23d9",
   "metadata": {},
   "outputs": [],
   "source": []
  },
  {
   "cell_type": "code",
   "execution_count": null,
   "id": "7d52ab70",
   "metadata": {},
   "outputs": [],
   "source": []
  },
  {
   "cell_type": "code",
   "execution_count": null,
   "id": "017494ad",
   "metadata": {},
   "outputs": [],
   "source": []
  },
  {
   "cell_type": "code",
   "execution_count": null,
   "id": "0985091c",
   "metadata": {},
   "outputs": [],
   "source": []
  },
  {
   "cell_type": "code",
   "execution_count": null,
   "id": "0672257f",
   "metadata": {},
   "outputs": [],
   "source": []
  },
  {
   "cell_type": "code",
   "execution_count": null,
   "id": "37632a88",
   "metadata": {},
   "outputs": [],
   "source": []
  },
  {
   "cell_type": "code",
   "execution_count": null,
   "id": "8381c84c",
   "metadata": {},
   "outputs": [],
   "source": []
  },
  {
   "cell_type": "code",
   "execution_count": null,
   "id": "0b5103c9",
   "metadata": {},
   "outputs": [],
   "source": []
  },
  {
   "cell_type": "code",
   "execution_count": null,
   "id": "65930d98",
   "metadata": {},
   "outputs": [],
   "source": []
  },
  {
   "cell_type": "code",
   "execution_count": null,
   "id": "4524cde4",
   "metadata": {},
   "outputs": [],
   "source": []
  },
  {
   "cell_type": "code",
   "execution_count": null,
   "id": "ae154dfa",
   "metadata": {},
   "outputs": [],
   "source": []
  },
  {
   "cell_type": "code",
   "execution_count": null,
   "id": "5f3a1f61",
   "metadata": {},
   "outputs": [],
   "source": []
  },
  {
   "cell_type": "code",
   "execution_count": null,
   "id": "672a6dee",
   "metadata": {},
   "outputs": [],
   "source": []
  },
  {
   "cell_type": "code",
   "execution_count": null,
   "id": "512f643a",
   "metadata": {},
   "outputs": [],
   "source": []
  }
 ],
 "metadata": {
  "kernelspec": {
   "display_name": "Python 3 (ipykernel)",
   "language": "python",
   "name": "python3"
  },
  "language_info": {
   "codemirror_mode": {
    "name": "ipython",
    "version": 3
   },
   "file_extension": ".py",
   "mimetype": "text/x-python",
   "name": "python",
   "nbconvert_exporter": "python",
   "pygments_lexer": "ipython3",
   "version": "3.11.5"
  }
 },
 "nbformat": 4,
 "nbformat_minor": 5
}
